{
 "cells": [
  {
   "cell_type": "code",
   "execution_count": null,
   "metadata": {},
   "outputs": [],
   "source": [
    "# Searches the database using Rick Astley's \"Never Gonna Give You Up\" as a test case\n",
    "\n",
    "from fyp import SearchConfig, SongSearchState, search_song\n",
    "\n",
    "config = SearchConfig(\n",
    "    # Refer to the comments in the SearchConfig class for more info\n",
    "    max_transpose=3,\n",
    "    chord_model_path=\"./resources/ckpts/btc_model_large_voca.pt\",\n",
    "    beat_model_path=\"./resources/ckpts/beat_transformer.pt\",\n",
    "    cache_dir=\"./resources/cache\",\n",
    "    filter_func=lambda x: x.genre in (\"pop\", \"nightcore\", \"broadway\"),\n",
    "    extra_info=\"{title}/{views}\",\n",
    "    verbose=True\n",
    ")\n",
    "\n",
    "state = SongSearchState(link=\"https://www.youtube.com/watch?v=dQw4w9WgXcQ\", config=config)\n",
    "\n",
    "# Search the song\n",
    "scores = search_song(state=state)"
   ]
  }
 ],
 "metadata": {
  "kernelspec": {
   "display_name": ".venv",
   "language": "python",
   "name": "python3"
  },
  "language_info": {
   "codemirror_mode": {
    "name": "ipython",
    "version": 3
   },
   "file_extension": ".py",
   "mimetype": "text/x-python",
   "name": "python",
   "nbconvert_exporter": "python",
   "pygments_lexer": "ipython3",
   "version": "3.11.9"
  }
 },
 "nbformat": 4,
 "nbformat_minor": 2
}
