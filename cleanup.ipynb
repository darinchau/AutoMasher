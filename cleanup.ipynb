{
 "cells": [
  {
   "cell_type": "code",
   "execution_count": 1,
   "metadata": {},
   "outputs": [],
   "source": [
    "import tempfile\n",
    "import os\n",
    "current_dir = tempfile.gettempdir()\n",
    "\n",
    "\n",
    "for filename in os.listdir(current_dir):\n",
    "    if filename.endswith('.wav') or filename.endswith('.mp4'):\n",
    "        file_path = os.path.join(current_dir, filename)\n",
    "        os.remove(file_path)\n",
    "        print(f\"Deleted {filename}\")"
   ]
  },
  {
   "cell_type": "code",
   "execution_count": 2,
   "metadata": {},
   "outputs": [],
   "source": [
    "from scripts.calculate import clean_playlist_queue\n",
    "\n",
    "clean_playlist_queue(\"./scripts/playlist_queue.txt\")"
   ]
  },
  {
   "cell_type": "code",
   "execution_count": 3,
   "metadata": {},
   "outputs": [],
   "source": [
    "import os\n",
    "from fyp import Audio\n",
    "from tqdm.auto import tqdm\n",
    "from fyp import SongDataset\n",
    "\n",
    "ds = SongDataset.load(\"resources/dataset/audio-infos-v2.1.db\")\n",
    "\n",
    "cache_path = \"resources/cache\"\n",
    "\n",
    "for entry in tqdm(ds):\n",
    "    cache_file = os.path.join(cache_path, entry.url_id + \".mp3\")\n",
    "    if not os.path.exists(cache_file):\n",
    "        continue\n",
    "\n",
    "    try:\n",
    "        audio = Audio.load(cache_file)\n",
    "        if abs(audio.duration - entry.length) > 1:\n",
    "            print(f\"Deleting {cache_file} because of duration mismatch ({audio.duration} != {entry.length})\")\n",
    "            os.remove(cache_file)\n",
    "    except Exception as e:\n",
    "        print(f\"Deleting {cache_file} because of exception: {e}\")\n",
    "        os.remove(cache_file)"
   ]
  },
  {
   "cell_type": "code",
   "execution_count": null,
   "metadata": {},
   "outputs": [],
   "source": [
    "import os\n",
    "for file in os.listdir(\"resources/cache\"):\n",
    "    if file.startswith(\"chord\") or file.startswith(\"beat\"):\n",
    "        os.remove(os.path.join(\"resources/cache\", file))"
   ]
  }
 ],
 "metadata": {
  "kernelspec": {
   "display_name": ".venv",
   "language": "python",
   "name": "python3"
  },
  "language_info": {
   "codemirror_mode": {
    "name": "ipython",
    "version": 3
   },
   "file_extension": ".py",
   "mimetype": "text/x-python",
   "name": "python",
   "nbconvert_exporter": "python",
   "pygments_lexer": "ipython3",
   "version": "3.12.4"
  }
 },
 "nbformat": 4,
 "nbformat_minor": 2
}
